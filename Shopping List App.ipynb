{
 "cells": [
  {
   "cell_type": "code",
   "execution_count": 1,
   "metadata": {},
   "outputs": [
    {
     "name": "stdout",
     "output_type": "stream",
     "text": [
      "Welcome to Pams Shoping App\n",
      "Do you want to take a tour of the app, that how to use this Exciting App ??\n",
      "Enter 1 for YES and 0 for NO1\n",
      "on the top right corner we have Login button\n",
      "on the left of the Login buttton we have the Contact us page\n",
      "on the right corner you have your profile details and the cart details\n",
      "Hola you are done!!\n",
      "enter Done to end or con to continue your shopingcon\n",
      "enter the itemegg\n",
      "enter Done to end or con to continue your shoppingcon\n",
      "enter the itemchicken\n",
      "enter Done to end or con to continue your shoppingcon\n",
      "enter the itemfish\n",
      "enter Done to end or con to continue your shoppingDone\n",
      "List is  ['egg', 'chicken', 'fish']\n"
     ]
    }
   ],
   "source": [
    "x=[]\n",
    "\n",
    "print('Welcome to Pams Shoping App')\n",
    "\n",
    "print('Do you want to take a tour of the app, that how to use this Exciting App ??')\n",
    "\n",
    "y=int(input('Enter 1 for YES and 0 for NO'))\n",
    "\n",
    "if y==1:\n",
    "    \n",
    "    print('on the top right corner we have Login button')\n",
    "    \n",
    "    print('on the left of the Login buttton we have the Contact us page')\n",
    "    \n",
    "    print('on the right corner you have your profile details and the cart details')\n",
    "    \n",
    "    print('Hola you are done!!')\n",
    "    \n",
    "\n",
    "\n",
    "\n",
    "c=input('enter Done to end or con to continue your shoping')\n",
    "\n",
    "while c=='con':\n",
    "    \n",
    "    f=input('enter the item')\n",
    "    \n",
    "    x.append(f)\n",
    "    \n",
    "    c=input('enter Done to end or con to continue your shopping')\n",
    "    \n",
    "print('List is ',x)"
   ]
  },
  {
   "cell_type": "code",
   "execution_count": null,
   "metadata": {},
   "outputs": [],
   "source": []
  }
 ],
 "metadata": {
  "kernelspec": {
   "display_name": "Python 3",
   "language": "python",
   "name": "python3"
  },
  "language_info": {
   "codemirror_mode": {
    "name": "ipython",
    "version": 3
   },
   "file_extension": ".py",
   "mimetype": "text/x-python",
   "name": "python",
   "nbconvert_exporter": "python",
   "pygments_lexer": "ipython3",
   "version": "3.7.4"
  }
 },
 "nbformat": 4,
 "nbformat_minor": 2
}
